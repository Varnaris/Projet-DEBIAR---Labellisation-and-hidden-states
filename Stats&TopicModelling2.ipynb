{
 "cells": [
  {
   "cell_type": "code",
   "execution_count": 85,
   "id": "b6b916c7",
   "metadata": {
    "id": "b6b916c7"
   },
   "outputs": [],
   "source": [
    "import os\n",
    "import pandas as pd"
   ]
  },
  {
   "cell_type": "code",
   "execution_count": 86,
   "id": "acXFHcPiRs9Y",
   "metadata": {
    "id": "acXFHcPiRs9Y"
   },
   "outputs": [],
   "source": [
    "##### MODEL SELECTION #####\n",
    "\n",
    "model_name = \"unsloth/Mistral-Small-Instruct-2409-bnb-4bit\"\n",
    "#model_name = \"unsloth/Phi-4-mini-instruct-bnb-4bit\"\n",
    "#model_name = \"unsloth/DeepSeek-R1-Distill-Qwen-1.5B-bnb-4bit\"\n",
    "#model_name = \"unsloth/Qwen2-7B-Instruct-bnb-4bit\"\n",
    "#model_name = \"unsloth/Meta-Llama-3.1-8B-Instruct-bnb-4bit\"\n",
    "\n",
    "modele_str = model_name.split('/')[-1]\n",
    "\n",
    "###### TOPIC MODELING #####\n",
    "target_text = \"keywords_LLM_Gender\"\n",
    "#target_text = \"keywords_LLM_Ethnicity\"\n",
    "#target_text = \"english_lyrics\"\n",
    "\n",
    "target_labels = \"genre_LLM\"\n",
    "#target_labels = \"ethnicity_LLM\""
   ]
  },
  {
   "cell_type": "code",
   "execution_count": 87,
   "id": "734df39b",
   "metadata": {},
   "outputs": [],
   "source": [
    "PATH_input_gender = '/home/evuichard/Projet DEBIAR/labeled_lyrics_gender_' + modele_str + '.xlsx'\n",
    "PATH_output_gender_temp = '/home/evuichard/Projet DEBIAR/' + modele_str + '/'\n",
    "PATH_output_gender = PATH_output_gender_temp\n",
    "df = pd.ExcelFile(PATH_input_gender)\n",
    "df = df.parse(\"Sheet1\")\n",
    "\n",
    "#créer le dossier modele_str s'il n'existe pas déjà\n",
    "if not os.path.exists(PATH_output_gender):\n",
    "    os.makedirs(PATH_output_gender)\n",
    "\n",
    "df = df.dropna(subset=['genre_LLM'])\n",
    "df = df.dropna(subset=['ethnicity_LLM'])\n",
    "#supprimer les colonnes qui commencent par \"Unnamed\"\n",
    "df = df.loc[:, ~df.columns.str.startswith('Unnamed')]\n",
    "#afficher les clés du dataframe\n",
    "print(df.keys())\n",
    "\n",
    "df.to_excel(PATH_input_gender, index=False)"
   ]
  },
  {
   "cell_type": "code",
   "execution_count": 88,
   "id": "da438ce9",
   "metadata": {},
   "outputs": [],
   "source": [
    "#calcul des pourcentages des keywords présents dans les lyrics traduites\n",
    "def keyword_percentage(lyrics, keywords):\n",
    "    lyrics = lyrics.lower()\n",
    "    keyword_count = sum(1 for keyword in keywords if keyword.lower() in lyrics)\n",
    "    return keyword_count / len(keywords) * 100 if keywords else 0\n",
    "\n",
    "def score_keywords_model(model_name_f):\n",
    "    modele_str_f = model_name_f.split('/')[-1]\n",
    "\n",
    "    df_f = pd.ExcelFile('/home/evuichard/Projet DEBIAR/labeled_lyrics_gender_' + modele_str_f + '.xlsx')\n",
    "    df_f = df_f.parse(\"Sheet1\")\n",
    "    df_f[\"score_keywords_gender\"] = df_f.apply(lambda x: keyword_percentage(x[\"english_lyrics\"], str(x[\"keywords_LLM_Gender\"]).replace(',', ' ').split()), axis=1)\n",
    "    df_f[\"score_keywords_ethnicity\"] = df_f.apply(lambda x: keyword_percentage(x[\"english_lyrics\"], str(x[\"keywords_LLM_Ethnicity\"]).replace(',', ' ').split()), axis=1)\n",
    "\n",
    "    #affichage des résultats\n",
    "    print(f\"Résultats pour le modèle {model_name_f}:\")\n",
    "    print(\"Score moyen des keywords liés au genre :\")\n",
    "    print(df_f[\"score_keywords_gender\"].mean())\n",
    "    print(\"Score moyen des keywords liés à l'ethnicité :\")\n",
    "    print(df_f[\"score_keywords_ethnicity\"].mean())\n",
    "    print()\n",
    "\n",
    "for model_name_f in [\"unsloth/Mistral-Small-Instruct-2409-bnb-4bit\", \"unsloth/Phi-4-mini-instruct-bnb-4bit\", \n",
    "                     \"unsloth/DeepSeek-R1-Distill-Qwen-1.5B-bnb-4bit\", \"unsloth/Qwen2-7B-Instruct-bnb-4bit\", \n",
    "                     \"unsloth/Meta-Llama-3.1-8B-Instruct-bnb-4bit\"]:\n",
    "    score_keywords_model(model_name_f)"
   ]
  },
  {
   "cell_type": "markdown",
   "id": "dPCe8lPCC1Zu",
   "metadata": {
    "id": "dPCe8lPCC1Zu"
   },
   "source": [
    "# Statistiques"
   ]
  },
  {
   "cell_type": "code",
   "execution_count": 89,
   "id": "CYqmtncwYEuC",
   "metadata": {
    "id": "CYqmtncwYEuC"
   },
   "outputs": [],
   "source": [
    "PATH_output_gender = PATH_output_gender_temp + 'stats/'\n",
    "os.makedirs(PATH_output_gender, exist_ok=True)"
   ]
  },
  {
   "cell_type": "code",
   "execution_count": 90,
   "id": "xPzGhP2u6Eda",
   "metadata": {
    "id": "xPzGhP2u6Eda"
   },
   "outputs": [],
   "source": [
    "#on affiche le nom des artistes qui ont pour genre \"person\"\n",
    "df[df['genre'] == 'Person']['track_artist'].unique()\n",
    "#SAYMYNAME => female\n",
    "#Aleman => male\n",
    "#Fili => group\n",
    "#MiMS => male\n",
    "\n",
    "df.loc[df['track_artist'] == 'SAYMYNAME', 'genre'] = 'female'\n",
    "df.loc[df['track_artist'] == 'Aleman', 'genre'] = 'male'\n",
    "df.loc[df['track_artist'] == 'Fili', 'genre'] = 'Group'\n",
    "df.loc[df['track_artist'] == 'MiMS', 'genre'] = 'male'\n",
    "\n",
    "df = df[df['genre'].isin(['female', 'male', 'Group'])]\n",
    "\n",
    "df = df.dropna(subset=['genre'])\n",
    "df.to_excel(PATH_input_gender, index=False)\n"
   ]
  },
  {
   "cell_type": "code",
   "execution_count": 91,
   "id": "6RU0HOGYQiyA",
   "metadata": {
    "colab": {
     "base_uri": "https://localhost:8080/",
     "height": 1000
    },
    "executionInfo": {
     "elapsed": 558,
     "status": "ok",
     "timestamp": 1752404536332,
     "user": {
      "displayName": "Elouan",
      "userId": "04663354146870278787"
     },
     "user_tz": -120
    },
    "id": "6RU0HOGYQiyA",
    "outputId": "e99dfa99-c8d1-4a10-d3f7-3e27a0cc387b"
   },
   "outputs": [],
   "source": [
    "import matplotlib.pyplot as plt\n",
    "df = pd.ExcelFile(PATH_input_gender)\n",
    "df = df.parse(\"Sheet1\")\n",
    "\n",
    "#on affiche les classes de genre de df qui ont un genre\n",
    "#df[df['genre'] == 'Person'] = None  # Remove this line\n",
    "df_genre = df[df['genre_LLM'].notna()]\n",
    "print(df_genre['genre'].value_counts())\n",
    "df_genre['genre_LLM'].value_counts().plot(kind='bar')\n",
    "plt.title('Number of lines per genre for \"' + modele_str + '\"')\n",
    "plt.xlabel('Predicted Gender (LLM)')\n",
    "plt.ylabel('Number of lines')\n",
    "plt.savefig(PATH_output_gender + 'genre_LLM_' + modele_str + '.png')\n",
    "plt.show()\n",
    "\n",
    "genre_llm_counts = df_genre.groupby('genre')['genre_LLM'].value_counts().unstack(fill_value=0)\n",
    "fig, ax = plt.subplots(figsize=(10, 6))\n",
    "\n",
    "genre_llm_counts.plot(kind='bar', stacked=True, ax=ax)\n",
    "\n",
    "ax.set_title('Distribution of genre_LLM by genre for \"' + modele_str + '\"')\n",
    "ax.set_xlabel('Actual Gender')\n",
    "ax.set_ylabel('Number of lines')\n",
    "ax.tick_params(axis='x', rotation=45)\n",
    "ax.legend(title='Predicted Gender (LLM)', loc='upper right')\n",
    "\n",
    "plt.tight_layout()\n",
    "plt.savefig(PATH_output_gender + 'stacked_bar_chart_gender_' + modele_str + '.png')\n",
    "plt.show()"
   ]
  },
  {
   "cell_type": "code",
   "execution_count": 92,
   "id": "gjzs6mFm1Yue",
   "metadata": {
    "colab": {
     "base_uri": "https://localhost:8080/",
     "height": 207
    },
    "executionInfo": {
     "elapsed": 225,
     "status": "ok",
     "timestamp": 1752404536559,
     "user": {
      "displayName": "Elouan",
      "userId": "04663354146870278787"
     },
     "user_tz": -120
    },
    "id": "gjzs6mFm1Yue",
    "outputId": "7361a9d3-9e21-4c6f-f0f3-b1255ad02fd6"
   },
   "outputs": [],
   "source": [
    "from scipy.stats import chi2_contingency\n",
    "\n",
    "df_cleaned_contingency = df.dropna(subset=['genre', 'genre_LLM']).copy()\n",
    "\n",
    "contingency_table = pd.crosstab(df_cleaned_contingency['genre'], df_cleaned_contingency['genre_LLM'])\n",
    "chi2, p, dof, expected = chi2_contingency(contingency_table)\n",
    "fig, ax = plt.subplots(figsize=(6, 2))\n",
    "ax.axis('off')\n",
    "table_data = [\n",
    "    [\"Chi-squared\", f\"{chi2:.3f}\"],\n",
    "    [\"Degrees of Freedom\", dof],\n",
    "    [\"P-value\", f\"{p:.4e}\"]\n",
    "]\n",
    "table = ax.table(cellText=table_data,\n",
    "                 colLabels=[\"Stat\", \"Value\"],\n",
    "                 cellLoc=\"center\",\n",
    "                 loc=\"center\")\n",
    "table.auto_set_font_size(False)\n",
    "table.set_fontsize(12)\n",
    "table.scale(1.5, 1.5)\n",
    "\n",
    "plt.title(\"Chi-squared independence test results for genre and genre_LLM\")\n",
    "plt.tight_layout()\n",
    "plt.savefig(PATH_output_gender + 'chi-squared_independence_test_' + modele_str + '.png')\n",
    "plt.show()\n"
   ]
  },
  {
   "cell_type": "code",
   "execution_count": 93,
   "id": "UtjmADeFxL4h",
   "metadata": {
    "colab": {
     "base_uri": "https://localhost:8080/",
     "height": 707
    },
    "executionInfo": {
     "elapsed": 301,
     "status": "ok",
     "timestamp": 1752404536862,
     "user": {
      "displayName": "Elouan",
      "userId": "04663354146870278787"
     },
     "user_tz": -120
    },
    "id": "UtjmADeFxL4h",
    "outputId": "b951fd0f-c69c-4cc4-d0b8-c577985f95b3"
   },
   "outputs": [],
   "source": [
    "import seaborn as sns\n",
    "contingency_table_percentage = contingency_table.apply(lambda x: x / x.sum(), axis=1) * 100\n",
    "annot = contingency_table_percentage.applymap(lambda x: f\"{x:.2f}%\")\n",
    "\n",
    "plt.figure(figsize=(10, 7))\n",
    "sns.heatmap(contingency_table_percentage, annot=annot, fmt=\"\", cmap=\"Reds\")\n",
    "\n",
    "plt.title('Heatmap of LLM Gender Prediction Percentage by Actual Gender for \"' + modele_str + '\"')\n",
    "plt.xlabel('Predicted Gender (LLM)')\n",
    "plt.ylabel('Actual Gender')\n",
    "plt.tight_layout()\n",
    "plt.savefig(PATH_output_gender + 'heatmap_percentage_gender_' + modele_str + '.png')\n",
    "plt.show()"
   ]
  },
  {
   "cell_type": "code",
   "execution_count": 94,
   "id": "YOpiM55vWhQM",
   "metadata": {
    "colab": {
     "base_uri": "https://localhost:8080/",
     "height": 1000
    },
    "executionInfo": {
     "elapsed": 741,
     "status": "ok",
     "timestamp": 1752404537605,
     "user": {
      "displayName": "Elouan",
      "userId": "04663354146870278787"
     },
     "user_tz": -120
    },
    "id": "YOpiM55vWhQM",
    "outputId": "46b044c7-259b-4ece-e8f7-0c36184b7f75"
   },
   "outputs": [],
   "source": [
    "import matplotlib.pyplot as plt\n",
    "df = pd.ExcelFile(PATH_input_gender)\n",
    "df = df.parse(\"Sheet1\")\n",
    "\n",
    "#on affiche les classes d'ethnie de df qui ont une ethnie\n",
    "df_ethnicity = df[df['ethnicity_LLM'].notna()]\n",
    "print(df_ethnicity['ethnie'].value_counts())\n",
    "df_ethnicity['ethnicity_LLM'].value_counts().plot(kind='bar')\n",
    "plt.title('Number of lines per ethnicity for \"' + modele_str + '\"')\n",
    "plt.xlabel('Predicted Ethnicity (LLM)')\n",
    "plt.ylabel('Number of lines')\n",
    "plt.savefig(PATH_output_gender + 'ethnicity_LLM_' + modele_str + '.png')\n",
    "plt.show()\n",
    "\n",
    "ethnie_llm_counts = df_ethnicity.groupby('ethnie')['ethnicity_LLM'].value_counts().unstack(fill_value=0)\n",
    "fig, ax = plt.subplots(figsize=(10, 6))\n",
    "\n",
    "ethnie_llm_counts.plot(kind='bar', stacked=True, ax=ax)\n",
    "\n",
    "ax.set_title('Distribution of ethnicity_LLM by ethnicity for \"' + modele_str + '\"')\n",
    "ax.set_xlabel('Actual Ethnicity')\n",
    "ax.set_ylabel('Number of lines')\n",
    "ax.tick_params(axis='x', rotation=45)\n",
    "ax.legend(title='Predicted Ethnicity (LLM)', loc='upper right')\n",
    "\n",
    "plt.tight_layout()\n",
    "plt.savefig(PATH_output_gender + 'stacked_bar_chart_ethnicity_' + modele_str + '.png')\n",
    "plt.show()"
   ]
  },
  {
   "cell_type": "code",
   "execution_count": 95,
   "id": "39c1809a",
   "metadata": {
    "colab": {
     "base_uri": "https://localhost:8080/",
     "height": 207
    },
    "executionInfo": {
     "elapsed": 124,
     "status": "ok",
     "timestamp": 1752404537728,
     "user": {
      "displayName": "Elouan",
      "userId": "04663354146870278787"
     },
     "user_tz": -120
    },
    "id": "39c1809a",
    "outputId": "1ed69a20-f32e-4638-de71-f4aa735d31f1"
   },
   "outputs": [],
   "source": [
    "from scipy.stats import chi2_contingency\n",
    "\n",
    "df_cleaned_contingency_ethnicity = df.dropna(subset=['ethnie', 'ethnicity_LLM']).copy()\n",
    "contingency_table_ethnicity = pd.crosstab(df_cleaned_contingency_ethnicity['ethnie'], df_cleaned_contingency_ethnicity['ethnicity_LLM'])\n",
    "chi2_ethnicity, p_ethnicity, dof_ethnicity, expected_ethnicity = chi2_contingency(contingency_table_ethnicity)\n",
    "\n",
    "fig, ax = plt.subplots(figsize=(6, 2))\n",
    "ax.axis('off')\n",
    "table_data_ethnicity = [\n",
    "    [\"Chi-squared\", f\"{chi2_ethnicity:.3f}\"],\n",
    "    [\"Degrees of Freedom\", dof_ethnicity],\n",
    "    [\"P-value\", f\"{p_ethnicity:.4e}\"]\n",
    "]\n",
    "table_ethnicity = ax.table(cellText=table_data_ethnicity,\n",
    "                 colLabels=[\"Stat\", \"Value\"],\n",
    "                 cellLoc=\"center\",\n",
    "                 loc=\"center\")\n",
    "table_ethnicity.auto_set_font_size(False)\n",
    "table_ethnicity.set_fontsize(12)\n",
    "table_ethnicity.scale(1.5, 1.5)\n",
    "\n",
    "plt.title(\"Chi-squared independence test results for ethnie and ethnicity_LLM\")\n",
    "plt.tight_layout()\n",
    "plt.savefig(PATH_output_gender + 'chi-squared_independence_test_ethnicity_' + modele_str + '.png')\n",
    "plt.show()"
   ]
  },
  {
   "cell_type": "code",
   "execution_count": 96,
   "id": "JrASXH8v-NUR",
   "metadata": {
    "colab": {
     "base_uri": "https://localhost:8080/",
     "height": 707
    },
    "executionInfo": {
     "elapsed": 494,
     "status": "ok",
     "timestamp": 1752404538223,
     "user": {
      "displayName": "Elouan",
      "userId": "04663354146870278787"
     },
     "user_tz": -120
    },
    "id": "JrASXH8v-NUR",
    "outputId": "b1dd3e97-aa9a-4601-faf4-73417de49c33"
   },
   "outputs": [],
   "source": [
    "contingency_table_percentage_ethnicity = contingency_table_ethnicity.apply(lambda x: x / x.sum(), axis=1) * 100\n",
    "annot_ethnicity = contingency_table_percentage_ethnicity.applymap(lambda x: f\"{x:.2f}%\")\n",
    "\n",
    "plt.figure(figsize=(10, 7))\n",
    "sns.heatmap(contingency_table_percentage_ethnicity, annot=annot_ethnicity, fmt=\"\", cmap=\"Reds\")\n",
    "\n",
    "plt.title('Heatmap of LLM Ethnicity Prediction Percentage by Actual Ethnicity for \"' + modele_str + '\"')\n",
    "plt.xlabel('Predicted Ethnicity (LLM)')\n",
    "plt.ylabel('Actual Ethnicity')\n",
    "plt.tight_layout()\n",
    "plt.savefig(PATH_output_gender + 'heatmap_percentage_ethnicity_' + modele_str + '.png')\n",
    "plt.show()\n"
   ]
  },
  {
   "cell_type": "code",
   "execution_count": 97,
   "id": "abc3af6e",
   "metadata": {
    "colab": {
     "base_uri": "https://localhost:8080/",
     "height": 707
    },
    "executionInfo": {
     "elapsed": 1116,
     "status": "ok",
     "timestamp": 1752404539340,
     "user": {
      "displayName": "Elouan",
      "userId": "04663354146870278787"
     },
     "user_tz": -120
    },
    "id": "abc3af6e",
    "outputId": "5e45e414-3431-4644-ec74-0c80a7071c67"
   },
   "outputs": [],
   "source": [
    "import matplotlib.pyplot as plt\n",
    "df = pd.ExcelFile(PATH_input_gender)\n",
    "df = df.parse(\"Sheet1\")\n",
    "\n",
    "# Filter out rows where either ethnicity_LLM or genre_LLM is missing\n",
    "df_filtered = df.dropna(subset=['ethnicity_LLM', 'genre_LLM'])\n",
    "\n",
    "# Create the cross-tabulation of ethnicity_LLM and genre_LLM\n",
    "ethnicity_genre_llm_counts = df_filtered.groupby('ethnicity_LLM')['genre_LLM'].value_counts().unstack(fill_value=0)\n",
    "\n",
    "# Plot the stacked bar chart\n",
    "fig, ax = plt.subplots(figsize=(12, 7))\n",
    "\n",
    "ethnicity_genre_llm_counts.plot(kind='bar', stacked=True, ax=ax)\n",
    "\n",
    "ax.set_title('Distribution of genre_LLM by ethnicity_LLM for \"' + modele_str + '\"')\n",
    "ax.set_xlabel('Predicted Ethnicity (LLM)')\n",
    "ax.set_ylabel('Number of lines')\n",
    "ax.tick_params(axis='x', rotation=45)\n",
    "ax.legend(title='Predicted Gender (LLM)', loc='upper right')\n",
    "\n",
    "plt.tight_layout()\n",
    "plt.savefig(PATH_output_gender + 'stacked_bar_chart_ethnicity_gender_' + modele_str + '.png')\n",
    "plt.show()"
   ]
  },
  {
   "cell_type": "markdown",
   "id": "57-VqLLdDz1p",
   "metadata": {
    "id": "57-VqLLdDz1p"
   },
   "source": [
    "# Topic Modelling"
   ]
  },
  {
   "cell_type": "code",
   "execution_count": 98,
   "id": "e3AAyY4fYZfi",
   "metadata": {
    "id": "e3AAyY4fYZfi"
   },
   "outputs": [],
   "source": [
    "PATH_output_gender = PATH_output_gender_temp + 'topic_modelling/'\n",
    "os.makedirs(PATH_output_gender, exist_ok=True)"
   ]
  },
  {
   "cell_type": "code",
   "execution_count": 99,
   "id": "JJE3_aFcvBS8",
   "metadata": {
    "colab": {
     "base_uri": "https://localhost:8080/"
    },
    "id": "JJE3_aFcvBS8",
    "outputId": "b2e34557-51b0-45c8-87da-22fc9c230f79"
   },
   "outputs": [],
   "source": [
    "#!pip install bertopic\n",
    "#!pip install umap-learn\n",
    "#!pip install -U kaleido\n",
    "from bertopic import BERTopic\n",
    "import shutil"
   ]
  },
  {
   "cell_type": "code",
   "execution_count": 100,
   "id": "k_u3epUNWhTq",
   "metadata": {
    "id": "k_u3epUNWhTq"
   },
   "outputs": [],
   "source": [
    "df = pd.ExcelFile(PATH_input_gender)\n",
    "df = df.parse(\"Sheet1\")\n",
    "df.head()\n",
    "\n",
    "PATH_output_gender = PATH_output_gender_temp + 'topic_modelling/' + target_labels + '_and_' + target_text + '/'\n",
    "#supprimer le dossier s'il existe\n",
    "if os.path.exists(PATH_output_gender):\n",
    "    shutil.rmtree(PATH_output_gender)\n",
    "os.makedirs(PATH_output_gender, exist_ok=True)"
   ]
  },
  {
   "cell_type": "code",
   "execution_count": 101,
   "id": "TiGpojHfe6i9",
   "metadata": {
    "id": "TiGpojHfe6i9"
   },
   "outputs": [],
   "source": [
    "import nltk\n",
    "import os\n",
    "import re\n",
    "from nltk.corpus import stopwords\n",
    "\n",
    "nltk_data_path = os.path.expanduser(\"~/Projet DEBIAR/nltk_data\")\n",
    "nltk.data.path.append(nltk_data_path)\n",
    "stop_words = set(stopwords.words(\"english\"))\n",
    "\n",
    "def clean_text(text):\n",
    "    # Met en minuscule\n",
    "    text = text.lower()\n",
    "    # Supprime les caractères non alphabétiques\n",
    "    text = re.sub(r\"[^a-z\\s]\", \"\", text)\n",
    "    #return text\n",
    "    # Supprime les stopwords\n",
    "    tokens = text.split()\n",
    "    tokens = [word for word in tokens if word not in stop_words]\n",
    "    return \" \".join(tokens)\n",
    "\n",
    "# Applique sur ta colonne lyrics\n",
    "df[target_text] = df[target_text].astype(str).apply(clean_text)"
   ]
  },
  {
   "cell_type": "code",
   "execution_count": 102,
   "id": "4UJH9tvyvfuv",
   "metadata": {
    "id": "4UJH9tvyvfuv"
   },
   "outputs": [],
   "source": [
    "documents = df[target_text].tolist()\n",
    "print(len(documents))\n",
    "labels = df[target_labels].unique().tolist()\n",
    "labels = [label for label in labels if str(label) != 'nan']\n",
    "\n",
    "topic_model = BERTopic(language=\"english\"\n",
    "                    #, nr_topics=len(labels)\n",
    "                    )\n",
    "\n",
    "topics, probs = topic_model.fit_transform(documents, y=[labels.index(label) if label in labels else -1 for label in df[target_labels].tolist()])\n",
    "#topics, probs = topic_model.fit_transform(documents)\n",
    "topics_per_class = topic_model.topics_per_class(documents, classes = df[target_labels])\n",
    "\n",
    "topic_model.reduce_topics(documents, nr_topics=len(labels)+1)\n",
    "topics, probs = topic_model.transform(documents)"
   ]
  },
  {
   "cell_type": "code",
   "execution_count": null,
   "id": "kz0uLhH-cEaV",
   "metadata": {
    "id": "kz0uLhH-cEaV"
   },
   "outputs": [],
   "source": [
    "#affichage de la carte des topics\n",
    "fig = topic_model.visualize_documents(documents)\n",
    "fig.write_html(PATH_output_gender + 'documents_and' + target_labels + '_' + modele_str + '.html')\n",
    "fig.show()\n",
    "\n",
    "fig = topic_model.visualize_topics_per_class(topics_per_class)\n",
    "fig.write_html(PATH_output_gender + 'topics_per_' + target_labels + '_' + modele_str + '.html')\n",
    "fig.show()\n",
    "\n",
    "fig = topic_model.visualize_barchart()\n",
    "fig.write_html(PATH_output_gender + 'barchart_' + target_labels + '_' + modele_str + '.html')\n",
    "fig.show()\n",
    "\n",
    "fig = topic_model.visualize_heatmap()\n",
    "fig.write_html(PATH_output_gender + 'heatmap_' + target_labels + '_' + modele_str + '.html')\n",
    "fig.show()\n",
    "\n",
    "fig = topic_model.visualize_hierarchy()\n",
    "fig.write_html(PATH_output_gender + 'hierarchy_' + target_labels + '_' + modele_str + '.html')\n",
    "fig.show()"
   ]
  },
  {
   "cell_type": "code",
   "execution_count": 104,
   "id": "3HH54QjsZMvE",
   "metadata": {
    "id": "3HH54QjsZMvE"
   },
   "outputs": [],
   "source": [
    "from wordcloud import WordCloud\n",
    "import matplotlib.pyplot as plt\n",
    "\n",
    "# Regrouper par topic et classe\n",
    "df_tpc = topics_per_class.groupby([\"Topic\", \"Class\"]).agg({\"Frequency\": \"sum\"}).reset_index()\n",
    "\n",
    "# Construire une table de fréquence\n",
    "topic_label_freq = df_tpc.pivot(index=\"Topic\", columns=\"Class\", values=\"Frequency\").fillna(0)\n",
    "\n",
    "# Trouver le label dominant par topic\n",
    "class_columns = [col for col in topic_label_freq.columns if col not in [\"dominant_label\", \"dominant_score\"]]\n",
    "topic_label_freq[\"dominant_label\"] = topic_label_freq[class_columns].idxmax(axis=1)\n",
    "topic_label_freq[\"dominant_score\"] = topic_label_freq[class_columns].max(axis=1) / topic_label_freq[class_columns].sum(axis=1)\n",
    "\n",
    "# Dictionnaire label -> liste de topics dominants\n",
    "dLabelTopic = {\n",
    "    label: topic_label_freq[topic_label_freq[\"dominant_label\"] == label].index.tolist()\n",
    "    for label in topic_label_freq[\"dominant_label\"].unique()\n",
    "}"
   ]
  },
  {
   "cell_type": "code",
   "execution_count": 105,
   "id": "zBvRZopubQEH",
   "metadata": {
    "id": "zBvRZopubQEH"
   },
   "outputs": [],
   "source": [
    "def plot_wordcloud(topic_model, topic_id, title=None):\n",
    "    topic_words = topic_model.get_topic(topic_id)\n",
    "    if not topic_words or isinstance(topic_words, bool):\n",
    "        print(f\"Warning: No words found for topic {topic_id}\")\n",
    "        return\n",
    "    words = dict(topic_words)\n",
    "    wordcloud = WordCloud(width=800, height=400, background_color='white').generate_from_frequencies(words)\n",
    "\n",
    "    plt.figure(figsize=(10, 5))\n",
    "    plt.imshow(wordcloud, interpolation='bilinear')\n",
    "    plt.axis(\"off\")\n",
    "    plt.title(title or f\"Topic {topic_id}\")\n",
    "    plt.savefig(PATH_output_gender + 'wordcloud_topic_' + (title.replace(\" \", \"_\") if title else str(topic_id)) + '_' + modele_str + '.png')\n",
    "    plt.show()\n",
    "\n",
    "# Iterate through the keys of the dLabelTopic dictionary\n",
    "for label in dLabelTopic.keys():\n",
    "    print(f\"Label: {label}\")\n",
    "    for topic_id in dLabelTopic[label]:\n",
    "        plot_wordcloud(topic_model, topic_id, title=f\"Topic {topic_id} for {label.replace('/','')}\")"
   ]
  }
 ],
 "metadata": {
  "accelerator": "GPU",
  "colab": {
   "collapsed_sections": [
    "dPCe8lPCC1Zu"
   ],
   "gpuType": "T4",
   "machine_shape": "hm",
   "provenance": []
  },
  "kernelspec": {
   "display_name": "Python (GPU ENV)",
   "language": "python",
   "name": "gpuenv"
  }
 },
 "nbformat": 4,
 "nbformat_minor": 5
}
